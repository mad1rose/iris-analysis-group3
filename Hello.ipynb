{
 "cells": [
  {
   "cell_type": "code",
   "execution_count": 1,
   "id": "e98eb9c0-7284-42cb-9f10-36cca5a57007",
   "metadata": {},
   "outputs": [
    {
     "name": "stdout",
     "output_type": "stream",
     "text": [
      "Hello Windows\n"
     ]
    }
   ],
   "source": [
    "print(\"Hello Windows\")"
   ]
  },
  {
   "cell_type": "code",
   "execution_count": null,
   "id": "5bd194c4-540c-4e76-87ba-011c9861fe7b",
   "metadata": {},
   "outputs": [],
   "source": []
  }
 ],
 "metadata": {
  "kernelspec": {
   "display_name": "Python [conda env:base] *",
   "language": "python",
   "name": "conda-base-py"
  },
  "language_info": {
   "codemirror_mode": {
    "name": "ipython",
    "version": 3
   },
   "file_extension": ".py",
   "mimetype": "text/x-python",
   "name": "python",
   "nbconvert_exporter": "python",
   "pygments_lexer": "ipython3",
   "version": "3.13.5"
  }
 },
 "nbformat": 4,
 "nbformat_minor": 5
}
