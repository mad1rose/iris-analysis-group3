{
 "cells": [
  {
   "cell_type": "code",
   "execution_count": 1,
   "id": "0673cf19-e5b1-4144-b86a-bb73af2b7291",
   "metadata": {},
   "outputs": [
    {
     "name": "stdout",
     "output_type": "stream",
     "text": [
      "Group 3\n"
     ]
    }
   ],
   "source": [
    "print(\"Group 3\")"
   ]
  },
  {
   "cell_type": "code",
   "execution_count": 1,
   "id": "40d7adb2-4263-4774-8500-24526059c591",
   "metadata": {},
   "outputs": [
    {
     "name": "stdout",
     "output_type": "stream",
     "text": [
      "gitbhub\n"
     ]
    }
   ],
   "source": [
    "print(\"gitbhub\")"
   ]
  },
  {
   "cell_type": "code",
   "execution_count": null,
   "id": "f681f854-d050-4bdf-bf6e-4f925fa1b33b",
   "metadata": {},
   "outputs": [],
   "source": []
  }
 ],
 "metadata": {
  "kernelspec": {
   "display_name": "Python [conda env:base] *",
   "language": "python",
   "name": "conda-base-py"
  },
  "language_info": {
   "codemirror_mode": {
    "name": "ipython",
    "version": 3
   },
   "file_extension": ".py",
   "mimetype": "text/x-python",
   "name": "python",
   "nbconvert_exporter": "python",
   "pygments_lexer": "ipython3",
   "version": "3.13.5"
  }
 },
 "nbformat": 4,
 "nbformat_minor": 5
}
