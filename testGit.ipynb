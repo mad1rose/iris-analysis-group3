{
 "cells": [
  {
   "cell_type": "code",
   "execution_count": 1,
   "id": "0673cf19-e5b1-4144-b86a-bb73af2b7291",
   "metadata": {},
   "outputs": [
    {
     "name": "stdout",
     "output_type": "stream",
     "text": [
      "Group 3\n"
     ]
    }
   ],
   "source": [
    "print(\"Group 3\")"
   ]
  },
  {
   "cell_type": "code",
   "execution_count": null,
   "id": "40d7adb2-4263-4774-8500-24526059c591",
   "metadata": {},
   "outputs": [],
   "source": [
    "print(\"testing\")"
   ]
  }
 ],
 "metadata": {
  "kernelspec": {
   "display_name": "Python 3 (ipykernel)",
   "language": "python",
   "name": "python3"
  },
  "language_info": {
   "codemirror_mode": {
    "name": "ipython",
    "version": 3
   },
   "file_extension": ".py",
   "mimetype": "text/x-python",
   "name": "python",
   "nbconvert_exporter": "python",
   "pygments_lexer": "ipython3",
   "version": "3.13.5"
  }
 },
 "nbformat": 4,
 "nbformat_minor": 5
}
