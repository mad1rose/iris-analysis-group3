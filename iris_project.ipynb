{
  "cells": [
    {
      "cell_type": "markdown",
      "source": [
        "## Phase 1:"
      ],
      "metadata": {
        "id": "LyMGIt7-LbcJ"
      },
      "id": "LyMGIt7-LbcJ"
    },
    {
      "cell_type": "code",
      "execution_count": 1,
      "id": "a0e37e11-e8d0-48c4-9687-49a7180fee16",
      "metadata": {
        "colab": {
          "base_uri": "https://localhost:8080/"
        },
        "id": "a0e37e11-e8d0-48c4-9687-49a7180fee16",
        "outputId": "0a934151-c1ea-4e21-921a-e0bef5747603"
      },
      "outputs": [
        {
          "output_type": "stream",
          "name": "stdout",
          "text": [
            "Hello Iris!\n"
          ]
        }
      ],
      "source": [
        "print(\"Hello Iris!\")"
      ]
    },
    {
      "cell_type": "code",
      "execution_count": 2,
      "id": "cabaefd0-33ea-48f7-bf63-c071fd3d2260",
      "metadata": {
        "colab": {
          "base_uri": "https://localhost:8080/"
        },
        "id": "cabaefd0-33ea-48f7-bf63-c071fd3d2260",
        "outputId": "97d89818-9bad-4059-d1b2-06f37ef07ffa"
      },
      "outputs": [
        {
          "output_type": "stream",
          "name": "stdout",
          "text": [
            "Hello Iris!\n"
          ]
        }
      ],
      "source": [
        "print(\"Hello Iris!\")"
      ]
    },
    {
      "cell_type": "code",
      "execution_count": 3,
      "id": "48763eb1-3fe9-41fe-9c12-2fd24a665c0b",
      "metadata": {
        "colab": {
          "base_uri": "https://localhost:8080/"
        },
        "id": "48763eb1-3fe9-41fe-9c12-2fd24a665c0b",
        "outputId": "e9f83f87-bf02-48a4-d688-46c4343fa9bb"
      },
      "outputs": [
        {
          "output_type": "stream",
          "name": "stdout",
          "text": [
            "Hello, Iris!\n"
          ]
        }
      ],
      "source": [
        "print(\"Hello, Iris!\")"
      ]
    },
    {
      "cell_type": "markdown",
      "source": [
        "## Phase 2:"
      ],
      "metadata": {
        "id": "aD84rk5CLfrU"
      },
      "id": "aD84rk5CLfrU"
    },
    {
      "cell_type": "code",
      "execution_count": 4,
      "id": "530cdbf8-607b-4287-be0c-3031534e4ea4",
      "metadata": {
        "id": "530cdbf8-607b-4287-be0c-3031534e4ea4"
      },
      "outputs": [],
      "source": [
        "# Variables\n",
        "\n",
        "dataset_name = \"Iris Dataset\"\n",
        "\n",
        "n_rows = 150\n",
        "n_columns = 5"
      ]
    },
    {
      "cell_type": "code",
      "source": [
        "# Control structures:\n",
        "\n",
        "petal_length = 1.7\n",
        "\n",
        "if petal_length > 1.5:\n",
        "    print(\"large petal\")\n",
        "else:\n",
        "    print(\"small petal\")"
      ],
      "metadata": {
        "colab": {
          "base_uri": "https://localhost:8080/"
        },
        "id": "LXgEwOqEL2pb",
        "outputId": "0dfdbbe4-f751-4dfe-e42b-48e270fa1ca1"
      },
      "id": "LXgEwOqEL2pb",
      "execution_count": 5,
      "outputs": [
        {
          "output_type": "stream",
          "name": "stdout",
          "text": [
            "large petal\n"
          ]
        }
      ]
    },
    {
      "cell_type": "code",
      "source": [
        "# Loops:\n",
        "species = [\"setosa\", \"versicolor\", \"virginica\"]\n",
        "\n",
        "for s in species:\n",
        "    print(\"Species: \", s)"
      ],
      "metadata": {
        "colab": {
          "base_uri": "https://localhost:8080/"
        },
        "id": "FdETbINpL9kQ",
        "outputId": "300da370-b347-4762-937e-2595f3b4655c"
      },
      "id": "FdETbINpL9kQ",
      "execution_count": 6,
      "outputs": [
        {
          "output_type": "stream",
          "name": "stdout",
          "text": [
            "Species:  setosa\n",
            "Species:  versicolor\n",
            "Species:  virginica\n"
          ]
        }
      ]
    },
    {
      "cell_type": "code",
      "source": [
        "# Functions:\n",
        "def classify_flower(sepal_length, petal_length):\n",
        "    if petal_length < 2 or sepal_length < 2:\n",
        "        return \"small\"\n",
        "    elif petal_length < 5 or sepal_length < 5:\n",
        "        return \"medium\"\n",
        "    else:\n",
        "        return \"large\"\n",
        "\n",
        "example = classify_flower(7.3, 6)\n",
        "\n",
        "print(example)"
      ],
      "metadata": {
        "colab": {
          "base_uri": "https://localhost:8080/"
        },
        "id": "cNGHvQacMBto",
        "outputId": "237684cb-0a20-43d1-c2f8-95703d4c7bdf"
      },
      "id": "cNGHvQacMBto",
      "execution_count": 8,
      "outputs": [
        {
          "output_type": "stream",
          "name": "stdout",
          "text": [
            "large\n"
          ]
        }
      ]
    }
  ],
  "metadata": {
    "kernelspec": {
      "display_name": "Python [conda env:base] *",
      "language": "python",
      "name": "conda-base-py"
    },
    "language_info": {
      "codemirror_mode": {
        "name": "ipython",
        "version": 3
      },
      "file_extension": ".py",
      "mimetype": "text/x-python",
      "name": "python",
      "nbconvert_exporter": "python",
      "pygments_lexer": "ipython3",
      "version": "3.13.5"
    },
    "colab": {
      "provenance": []
    }
  },
  "nbformat": 4,
  "nbformat_minor": 5
}