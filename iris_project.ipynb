{
  "cells": [
    {
      "cell_type": "markdown",
      "source": [
        "## Phase 1:"
      ],
      "metadata": {
        "id": "LyMGIt7-LbcJ"
      },
      "id": "LyMGIt7-LbcJ"
    },
    {
      "cell_type": "code",
      "execution_count": null,
      "id": "a0e37e11-e8d0-48c4-9687-49a7180fee16",
      "metadata": {
        "colab": {
          "base_uri": "https://localhost:8080/"
        },
        "id": "a0e37e11-e8d0-48c4-9687-49a7180fee16",
        "outputId": "52ab4f85-9366-45b6-c6ec-9f9a910b01e7"
      },
      "outputs": [
        {
          "output_type": "stream",
          "name": "stdout",
          "text": [
            "Hello Iris!\n"
          ]
        }
      ],
      "source": [
        "print(\"Hello Iris!\")"
      ]
    },
    {
      "cell_type": "code",
      "execution_count": null,
      "id": "cabaefd0-33ea-48f7-bf63-c071fd3d2260",
      "metadata": {
        "colab": {
          "base_uri": "https://localhost:8080/"
        },
        "id": "cabaefd0-33ea-48f7-bf63-c071fd3d2260",
        "outputId": "b1af2fa8-bd8c-47a5-c307-8d6607ddaca6"
      },
      "outputs": [
        {
          "output_type": "stream",
          "name": "stdout",
          "text": [
            "Hello Iris!\n"
          ]
        }
      ],
      "source": [
        "print(\"Hello Iris!\")"
      ]
    },
    {
      "cell_type": "code",
      "execution_count": null,
      "id": "48763eb1-3fe9-41fe-9c12-2fd24a665c0b",
      "metadata": {
        "colab": {
          "base_uri": "https://localhost:8080/"
        },
        "id": "48763eb1-3fe9-41fe-9c12-2fd24a665c0b",
        "outputId": "ff2989f9-5997-4bff-bb83-c488a98badec"
      },
      "outputs": [
        {
          "output_type": "stream",
          "name": "stdout",
          "text": [
            "Hello, Iris!\n"
          ]
        }
      ],
      "source": [
        "print(\"Hello, Iris!\")"
      ]
    },
    {
      "cell_type": "markdown",
      "source": [
        "## Phase 2:"
      ],
      "metadata": {
        "id": "aD84rk5CLfrU"
      },
      "id": "aD84rk5CLfrU"
    },
    {
      "cell_type": "code",
      "execution_count": null,
      "id": "530cdbf8-607b-4287-be0c-3031534e4ea4",
      "metadata": {
        "id": "530cdbf8-607b-4287-be0c-3031534e4ea4"
      },
      "outputs": [],
      "source": [
        "# Variables\n",
        "\n",
        "dataset_name = \"Iris Dataset\"\n",
        "\n",
        "n_rows = 150\n",
        "n_columns = 5"
      ]
    },
    {
      "cell_type": "code",
      "source": [
        "# Control structures:\n",
        "\n",
        "petal_length = 1.7\n",
        "\n",
        "if petal_length > 1.5:\n",
        "    print(\"large petal\")\n",
        "else:\n",
        "    print(\"small petal\")"
      ],
      "metadata": {
        "colab": {
          "base_uri": "https://localhost:8080/"
        },
        "id": "LXgEwOqEL2pb",
        "outputId": "de5af65b-0438-40ba-923b-49bb97263273"
      },
      "id": "LXgEwOqEL2pb",
      "execution_count": null,
      "outputs": [
        {
          "output_type": "stream",
          "name": "stdout",
          "text": [
            "large petal\n"
          ]
        }
      ]
    },
    {
      "cell_type": "code",
      "source": [
        "# Loops:\n",
        "species = [\"setosa\", \"versicolor\", \"virginica\"]\n",
        "\n",
        "for s in species:\n",
        "    print(\"Species: \", s)"
      ],
      "metadata": {
        "colab": {
          "base_uri": "https://localhost:8080/"
        },
        "id": "FdETbINpL9kQ",
        "outputId": "d733904a-1bcd-4ed6-a5b7-cc20b110d12e"
      },
      "id": "FdETbINpL9kQ",
      "execution_count": null,
      "outputs": [
        {
          "output_type": "stream",
          "name": "stdout",
          "text": [
            "Species:  setosa\n",
            "Species:  versicolor\n",
            "Species:  virginica\n"
          ]
        }
      ]
    },
    {
      "cell_type": "code",
      "source": [
        "# Functions:\n",
        "def classify_flower(sepal_length, petal_length):\n",
        "    if petal_length < 2 or sepal_length < 2:\n",
        "        return \"small\"\n",
        "    elif petal_length < 5 or sepal_length < 5:\n",
        "        return \"medium\"\n",
        "    else:\n",
        "        return \"large\"\n",
        "\n",
        "example = classify_flower(7.3, 6)\n",
        "\n",
        "print(example)"
      ],
      "metadata": {
        "colab": {
          "base_uri": "https://localhost:8080/"
        },
        "id": "cNGHvQacMBto",
        "outputId": "489a5c9c-50e0-4c93-fe65-cb1673fca1be"
      },
      "id": "cNGHvQacMBto",
      "execution_count": null,
      "outputs": [
        {
          "output_type": "stream",
          "name": "stdout",
          "text": [
            "large\n"
          ]
        }
      ]
    },
    {
      "cell_type": "code",
      "source": [
        "# To grab the dataset\n",
        "from google.colab import files\n",
        "upload = files.upload()"
      ],
      "metadata": {
        "id": "dTffYLuiSVqV",
        "outputId": "c83092da-d36e-4ff3-da15-f3d99c447743",
        "colab": {
          "base_uri": "https://localhost:8080/",
          "height": 73
        }
      },
      "id": "dTffYLuiSVqV",
      "execution_count": 2,
      "outputs": [
        {
          "output_type": "display_data",
          "data": {
            "text/plain": [
              "<IPython.core.display.HTML object>"
            ],
            "text/html": [
              "\n",
              "     <input type=\"file\" id=\"files-48f0707a-5471-4a2e-b2e3-ec9fb3daf2bb\" name=\"files[]\" multiple disabled\n",
              "        style=\"border:none\" />\n",
              "     <output id=\"result-48f0707a-5471-4a2e-b2e3-ec9fb3daf2bb\">\n",
              "      Upload widget is only available when the cell has been executed in the\n",
              "      current browser session. Please rerun this cell to enable.\n",
              "      </output>\n",
              "      <script>// Copyright 2017 Google LLC\n",
              "//\n",
              "// Licensed under the Apache License, Version 2.0 (the \"License\");\n",
              "// you may not use this file except in compliance with the License.\n",
              "// You may obtain a copy of the License at\n",
              "//\n",
              "//      http://www.apache.org/licenses/LICENSE-2.0\n",
              "//\n",
              "// Unless required by applicable law or agreed to in writing, software\n",
              "// distributed under the License is distributed on an \"AS IS\" BASIS,\n",
              "// WITHOUT WARRANTIES OR CONDITIONS OF ANY KIND, either express or implied.\n",
              "// See the License for the specific language governing permissions and\n",
              "// limitations under the License.\n",
              "\n",
              "/**\n",
              " * @fileoverview Helpers for google.colab Python module.\n",
              " */\n",
              "(function(scope) {\n",
              "function span(text, styleAttributes = {}) {\n",
              "  const element = document.createElement('span');\n",
              "  element.textContent = text;\n",
              "  for (const key of Object.keys(styleAttributes)) {\n",
              "    element.style[key] = styleAttributes[key];\n",
              "  }\n",
              "  return element;\n",
              "}\n",
              "\n",
              "// Max number of bytes which will be uploaded at a time.\n",
              "const MAX_PAYLOAD_SIZE = 100 * 1024;\n",
              "\n",
              "function _uploadFiles(inputId, outputId) {\n",
              "  const steps = uploadFilesStep(inputId, outputId);\n",
              "  const outputElement = document.getElementById(outputId);\n",
              "  // Cache steps on the outputElement to make it available for the next call\n",
              "  // to uploadFilesContinue from Python.\n",
              "  outputElement.steps = steps;\n",
              "\n",
              "  return _uploadFilesContinue(outputId);\n",
              "}\n",
              "\n",
              "// This is roughly an async generator (not supported in the browser yet),\n",
              "// where there are multiple asynchronous steps and the Python side is going\n",
              "// to poll for completion of each step.\n",
              "// This uses a Promise to block the python side on completion of each step,\n",
              "// then passes the result of the previous step as the input to the next step.\n",
              "function _uploadFilesContinue(outputId) {\n",
              "  const outputElement = document.getElementById(outputId);\n",
              "  const steps = outputElement.steps;\n",
              "\n",
              "  const next = steps.next(outputElement.lastPromiseValue);\n",
              "  return Promise.resolve(next.value.promise).then((value) => {\n",
              "    // Cache the last promise value to make it available to the next\n",
              "    // step of the generator.\n",
              "    outputElement.lastPromiseValue = value;\n",
              "    return next.value.response;\n",
              "  });\n",
              "}\n",
              "\n",
              "/**\n",
              " * Generator function which is called between each async step of the upload\n",
              " * process.\n",
              " * @param {string} inputId Element ID of the input file picker element.\n",
              " * @param {string} outputId Element ID of the output display.\n",
              " * @return {!Iterable<!Object>} Iterable of next steps.\n",
              " */\n",
              "function* uploadFilesStep(inputId, outputId) {\n",
              "  const inputElement = document.getElementById(inputId);\n",
              "  inputElement.disabled = false;\n",
              "\n",
              "  const outputElement = document.getElementById(outputId);\n",
              "  outputElement.innerHTML = '';\n",
              "\n",
              "  const pickedPromise = new Promise((resolve) => {\n",
              "    inputElement.addEventListener('change', (e) => {\n",
              "      resolve(e.target.files);\n",
              "    });\n",
              "  });\n",
              "\n",
              "  const cancel = document.createElement('button');\n",
              "  inputElement.parentElement.appendChild(cancel);\n",
              "  cancel.textContent = 'Cancel upload';\n",
              "  const cancelPromise = new Promise((resolve) => {\n",
              "    cancel.onclick = () => {\n",
              "      resolve(null);\n",
              "    };\n",
              "  });\n",
              "\n",
              "  // Wait for the user to pick the files.\n",
              "  const files = yield {\n",
              "    promise: Promise.race([pickedPromise, cancelPromise]),\n",
              "    response: {\n",
              "      action: 'starting',\n",
              "    }\n",
              "  };\n",
              "\n",
              "  cancel.remove();\n",
              "\n",
              "  // Disable the input element since further picks are not allowed.\n",
              "  inputElement.disabled = true;\n",
              "\n",
              "  if (!files) {\n",
              "    return {\n",
              "      response: {\n",
              "        action: 'complete',\n",
              "      }\n",
              "    };\n",
              "  }\n",
              "\n",
              "  for (const file of files) {\n",
              "    const li = document.createElement('li');\n",
              "    li.append(span(file.name, {fontWeight: 'bold'}));\n",
              "    li.append(span(\n",
              "        `(${file.type || 'n/a'}) - ${file.size} bytes, ` +\n",
              "        `last modified: ${\n",
              "            file.lastModifiedDate ? file.lastModifiedDate.toLocaleDateString() :\n",
              "                                    'n/a'} - `));\n",
              "    const percent = span('0% done');\n",
              "    li.appendChild(percent);\n",
              "\n",
              "    outputElement.appendChild(li);\n",
              "\n",
              "    const fileDataPromise = new Promise((resolve) => {\n",
              "      const reader = new FileReader();\n",
              "      reader.onload = (e) => {\n",
              "        resolve(e.target.result);\n",
              "      };\n",
              "      reader.readAsArrayBuffer(file);\n",
              "    });\n",
              "    // Wait for the data to be ready.\n",
              "    let fileData = yield {\n",
              "      promise: fileDataPromise,\n",
              "      response: {\n",
              "        action: 'continue',\n",
              "      }\n",
              "    };\n",
              "\n",
              "    // Use a chunked sending to avoid message size limits. See b/62115660.\n",
              "    let position = 0;\n",
              "    do {\n",
              "      const length = Math.min(fileData.byteLength - position, MAX_PAYLOAD_SIZE);\n",
              "      const chunk = new Uint8Array(fileData, position, length);\n",
              "      position += length;\n",
              "\n",
              "      const base64 = btoa(String.fromCharCode.apply(null, chunk));\n",
              "      yield {\n",
              "        response: {\n",
              "          action: 'append',\n",
              "          file: file.name,\n",
              "          data: base64,\n",
              "        },\n",
              "      };\n",
              "\n",
              "      let percentDone = fileData.byteLength === 0 ?\n",
              "          100 :\n",
              "          Math.round((position / fileData.byteLength) * 100);\n",
              "      percent.textContent = `${percentDone}% done`;\n",
              "\n",
              "    } while (position < fileData.byteLength);\n",
              "  }\n",
              "\n",
              "  // All done.\n",
              "  yield {\n",
              "    response: {\n",
              "      action: 'complete',\n",
              "    }\n",
              "  };\n",
              "}\n",
              "\n",
              "scope.google = scope.google || {};\n",
              "scope.google.colab = scope.google.colab || {};\n",
              "scope.google.colab._files = {\n",
              "  _uploadFiles,\n",
              "  _uploadFilesContinue,\n",
              "};\n",
              "})(self);\n",
              "</script> "
            ]
          },
          "metadata": {}
        },
        {
          "output_type": "stream",
          "name": "stdout",
          "text": [
            "Saving iris.data to iris.data\n"
          ]
        }
      ]
    },
    {
      "cell_type": "code",
      "source": [
        "import csv\n",
        "import statistics\n",
        "import pandas as pd\n",
        "\n",
        "# Step 1: Define header\n",
        "header = ['sepal_length', 'sepal_width', 'petal_length', 'petal_width', 'species']\n",
        "\n",
        "# Step 2: Read raw data using csv module\n",
        "with open(\"iris.data\", \"r\") as f:\n",
        "    reader = csv.reader(f)\n",
        "    rows = [row for row in reader if len(row) == 5]  # only complete rows"
      ],
      "metadata": {
        "id": "y1uB6tEdTLVN"
      },
      "id": "y1uB6tEdTLVN",
      "execution_count": 4,
      "outputs": []
    },
    {
      "cell_type": "code",
      "source": [
        "# ------------------------\n",
        "# Step 3: create summary.txt\n",
        "numeric_data = {col: [] for col in header[:-1]}\n",
        "for row in rows:\n",
        "    for i, col in enumerate(header[:-1]):\n",
        "        try:\n",
        "            numeric_data[col].append(float(row[i]))\n",
        "        except ValueError:\n",
        "            continue\n",
        "\n",
        "summary_csv = f\"Row count: {len(rows)}\\n\\n\"\n",
        "for col, values in numeric_data.items():\n",
        "    summary_csv += (\n",
        "        f\"Column: {col}\\n\"\n",
        "        f\"  Min: {min(values):.2f}\\n\"\n",
        "        f\"  Max: {max(values):.2f}\\n\"\n",
        "        f\"  Mean: {statistics.mean(values):.2f}\\n\\n\"\n",
        "    )\n",
        "\n",
        "with open('summary.txt', 'w') as f:\n",
        "    f.write(summary_csv)\n",
        "\n",
        "print(\"Summary.txt created\")\n"
      ],
      "metadata": {
        "id": "WPTwP9X4aWdf",
        "outputId": "04a31c7c-293e-4562-f819-0982c06e95b4",
        "colab": {
          "base_uri": "https://localhost:8080/"
        }
      },
      "id": "WPTwP9X4aWdf",
      "execution_count": 6,
      "outputs": [
        {
          "output_type": "stream",
          "name": "stdout",
          "text": [
            "Summary.txt created\n"
          ]
        }
      ]
    },
    {
      "cell_type": "code",
      "source": [
        "\n",
        "# Step 1: Load the raw CSV with header names\n",
        "header = ['sepal_length', 'sepal_width', 'petal_length', 'petal_width', 'species']\n",
        "df = pd.read_csv(\"iris.data\", header=None, names=header)\n",
        "\n",
        "# Step 2: Clean the dataset\n",
        "# 1. Remove completely empty rows\n",
        "df.dropna(how='all', inplace=True)\n",
        "\n",
        "# 2. Remove duplicates\n",
        "df.drop_duplicates(inplace=True)\n",
        "\n",
        "# 3. Convert numeric columns to float (in case of string values)\n",
        "for col in header[:-1]:\n",
        "    df[col] = pd.to_numeric(df[col], errors='coerce')\n",
        "\n",
        "# 4. Fill missing numeric values with column mean\n",
        "df.fillna(df.mean(numeric_only=True), inplace=True)\n",
        "\n",
        "# Step 3: Save the cleaned dataset\n",
        "df.to_csv('iris_cleaned.csv', index=False)\n",
        "print(\"iris_cleaned.csv saved!\")"
      ],
      "metadata": {
        "id": "X85m36-xawP2",
        "outputId": "73d86658-598b-40d7-a017-fa30d19fc349",
        "colab": {
          "base_uri": "https://localhost:8080/"
        }
      },
      "id": "X85m36-xawP2",
      "execution_count": 7,
      "outputs": [
        {
          "output_type": "stream",
          "name": "stdout",
          "text": [
            "iris_cleaned.csv saved!\n"
          ]
        }
      ]
    },
    {
      "cell_type": "code",
      "source": [
        "numeric_cols = header[:-1]\n",
        "summary_clean = f\"Row count: {len(df)}\\n\\n\"\n",
        "\n",
        "for col in numeric_cols:\n",
        "    summary_clean += (\n",
        "        f\"Column: {col}\\n\"\n",
        "        f\"  Min: {df[col].min():.2f}\\n\"\n",
        "        f\"  Max: {df[col].max():.2f}\\n\"\n",
        "        f\"  Mean: {df[col].mean():.2f}\\n\\n\"\n",
        "    )\n",
        "\n",
        "with open('clean_summary.txt', 'w') as f:\n",
        "    f.write(summary_clean)\n",
        "\n",
        "print(\"clean_summary.txt created:\")"
      ],
      "metadata": {
        "id": "KUjLRyopa6dG",
        "outputId": "c6fc0e56-ae06-41f0-8003-ee1428cb3d55",
        "colab": {
          "base_uri": "https://localhost:8080/"
        }
      },
      "id": "KUjLRyopa6dG",
      "execution_count": 8,
      "outputs": [
        {
          "output_type": "stream",
          "name": "stdout",
          "text": [
            "clean_summary.txt created:\n"
          ]
        }
      ]
    }
  ],
  "metadata": {
    "kernelspec": {
      "display_name": "Python [conda env:base] *",
      "language": "python",
      "name": "conda-base-py"
    },
    "language_info": {
      "codemirror_mode": {
        "name": "ipython",
        "version": 3
      },
      "file_extension": ".py",
      "mimetype": "text/x-python",
      "name": "python",
      "nbconvert_exporter": "python",
      "pygments_lexer": "ipython3",
      "version": "3.13.5"
    },
    "colab": {
      "provenance": []
    }
  },
  "nbformat": 4,
  "nbformat_minor": 5
}