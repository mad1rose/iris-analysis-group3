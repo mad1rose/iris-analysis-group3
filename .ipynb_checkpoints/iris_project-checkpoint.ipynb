{
 "cells": [
  {
   "cell_type": "code",
   "execution_count": 1,
   "id": "a0e37e11-e8d0-48c4-9687-49a7180fee16",
   "metadata": {},
   "outputs": [
    {
     "name": "stdout",
     "output_type": "stream",
     "text": [
      "Hello Iris!\n"
     ]
    }
   ],
   "source": [
    "print(\"Hello Iris!\")"
   ]
  },
  {
   "cell_type": "code",
   "execution_count": null,
   "id": "cabaefd0-33ea-48f7-bf63-c071fd3d2260",
   "metadata": {},
   "outputs": [],
   "source": []
  }
 ],
 "metadata": {
  "kernelspec": {
   "display_name": "Python 3 (ipykernel)",
   "language": "python",
   "name": "python3"
  },
  "language_info": {
   "codemirror_mode": {
    "name": "ipython",
    "version": 3
   },
   "file_extension": ".py",
   "mimetype": "text/x-python",
   "name": "python",
   "nbconvert_exporter": "python",
   "pygments_lexer": "ipython3",
   "version": "3.13.5"
  }
 },
 "nbformat": 4,
 "nbformat_minor": 5
}
