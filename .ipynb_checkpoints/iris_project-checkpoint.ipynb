{
 "cells": [
  {
   "cell_type": "code",
   "execution_count": 1,
   "id": "a0e37e11-e8d0-48c4-9687-49a7180fee16",
   "metadata": {},
   "outputs": [
    {
     "name": "stdout",
     "output_type": "stream",
     "text": [
      "Hello Iris!\n"
     ]
    }
   ],
   "source": [
    "print(\"Hello Iris!\")"
   ]
  },
  {
   "cell_type": "code",
   "execution_count": 1,
   "id": "cabaefd0-33ea-48f7-bf63-c071fd3d2260",
   "metadata": {},
   "outputs": [
    {
     "name": "stdout",
     "output_type": "stream",
     "text": [
      "Hello Iris!\n"
     ]
    }
   ],
   "source": [
    "print(\"Hello Iris!\")"
   ]
  },
  {
   "cell_type": "code",
   "execution_count": 1,
   "id": "48763eb1-3fe9-41fe-9c12-2fd24a665c0b",
   "metadata": {},
   "outputs": [
    {
     "name": "stdout",
     "output_type": "stream",
     "text": [
      "Hello, Iris!\n"
     ]
    }
   ],
   "source": [
    "print(\"Hello, Iris!\")"
   ]
  },
  {
   "cell_type": "code",
   "execution_count": null,
   "id": "530cdbf8-607b-4287-be0c-3031534e4ea4",
   "metadata": {},
   "outputs": [],
   "source": []
  }
 ],
 "metadata": {
  "kernelspec": {
   "display_name": "Python [conda env:base] *",
   "language": "python",
   "name": "conda-base-py"
  },
  "language_info": {
   "codemirror_mode": {
    "name": "ipython",
    "version": 3
   },
   "file_extension": ".py",
   "mimetype": "text/x-python",
   "name": "python",
   "nbconvert_exporter": "python",
   "pygments_lexer": "ipython3",
   "version": "3.13.5"
  }
 },
 "nbformat": 4,
 "nbformat_minor": 5
}
